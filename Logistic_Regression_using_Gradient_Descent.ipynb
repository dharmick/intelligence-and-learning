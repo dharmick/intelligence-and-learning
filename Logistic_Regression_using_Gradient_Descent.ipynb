{
  "nbformat": 4,
  "nbformat_minor": 0,
  "metadata": {
    "colab": {
      "name": "Logistic Regression using Gradient Descent.ipynb",
      "version": "0.3.2",
      "provenance": [],
      "collapsed_sections": [],
      "toc_visible": true,
      "include_colab_link": true
    },
    "kernelspec": {
      "name": "python3",
      "display_name": "Python 3"
    },
    "accelerator": "GPU"
  },
  "cells": [
    {
      "cell_type": "markdown",
      "metadata": {
        "id": "view-in-github",
        "colab_type": "text"
      },
      "source": [
        "<a href=\"https://colab.research.google.com/github/dharmick/machine-learning/blob/master/Logistic_Regression_using_Gradient_Descent.ipynb\" target=\"_parent\"><img src=\"https://colab.research.google.com/assets/colab-badge.svg\" alt=\"Open In Colab\"/></a>"
      ]
    },
    {
      "metadata": {
        "id": "cp757bdWcsKa",
        "colab_type": "text"
      },
      "cell_type": "markdown",
      "source": [
        "# Logistic Regression using Gradient Descent"
      ]
    },
    {
      "metadata": {
        "id": "r_n9m7V72kfI",
        "colab_type": "code",
        "colab": {}
      },
      "cell_type": "code",
      "source": [
        "import numpy as np\n",
        "import pandas as pd\n",
        "import matplotlib.pyplot as plt"
      ],
      "execution_count": 0,
      "outputs": []
    },
    {
      "metadata": {
        "id": "CcMnK-d_25hS",
        "colab_type": "code",
        "colab": {}
      },
      "cell_type": "code",
      "source": [
        "class LogisticRegression:\n",
        "  def __init__(self, lr = 0.01, epoch = 10000):\n",
        "    self.lr = lr\n",
        "    self.epoch = epoch\n",
        "  \n",
        "  def sigmoid(self, x):\n",
        "    return 1 / (1 + np.exp(-x))\n",
        "  \n",
        "  def fit(self, x, y):\n",
        "    graph_x = []\n",
        "    graph_y = []\n",
        "    self.w = np.zeros(x.shape[1])\n",
        "    for i in range(self.epoch):\n",
        "      z = np.dot(x, self.w.T)\n",
        "      a = self.sigmoid(z)\n",
        "      dz = a - y.T\n",
        "      dw = np.dot(x.T, dz) / y.size\n",
        "      self.w -= self.lr * dw.T\n",
        "      J = np.sum(dw)\n",
        "      graph_x.append(i)\n",
        "      graph_y.append(J)\n",
        "      if i%1000==0 or i==self.epoch-1:\n",
        "        print(f\"\\nIteration {i}\")\n",
        "        print(\"cost is \", J)\n",
        "    a = np.around(a)\n",
        "    confusionMatrix = self.confusionMatrix(a, y_train)\n",
        "    accuracy = (confusionMatrix[0][0] + confusionMatrix[1][1]) / np.sum(confusionMatrix)\n",
        "    print(\"\\nConfusion Matrix\\n\", confusionMatrix)\n",
        "    print(\"\\ntraining accuracy\", accuracy)\n",
        "    self.showCost(graph_x, graph_y)\n",
        "    \n",
        "  \n",
        "      \n",
        "  def predict(self, x):\n",
        "    pred =  self.sigmoid(np.dot(x, self.w.T))\n",
        "    return pred\n",
        "  \n",
        "  def showCost(self, x, y):\n",
        "    plt.plot(x, y)\n",
        "    plt.xlabel(\"Epochs (Iterations)\")\n",
        "    plt.ylabel(\"Cost\")\n",
        "    plt.title(\"Cost v/s Epochs\")\n",
        "    plt.show()\n",
        "    \n",
        "  def confusionMatrix(self, y_hat, y):\n",
        "    tn = 0\n",
        "    tp = 0\n",
        "    fn = 0\n",
        "    fp = 0\n",
        "    for i, item in enumerate(y):\n",
        "      if y_hat[i]==1.0 and y[i]==1:\n",
        "        tp += 1\n",
        "      elif y_hat[i]==0.0 and y[i]==0:\n",
        "        tn += 1\n",
        "      elif y_hat[i]==0.0 and y[i]==1:\n",
        "        fn += 1\n",
        "      else:\n",
        "        fp += 1\n",
        "    return np.array([[tn, fp], [fn, tp]])\n",
        "\n",
        "  "
      ],
      "execution_count": 0,
      "outputs": []
    },
    {
      "metadata": {
        "id": "wqiy_AQD27Uy",
        "colab_type": "code",
        "colab": {
          "base_uri": "https://localhost:8080/",
          "height": 204
        },
        "outputId": "c7523a09-04f1-4572-f1a4-6fc590c872b9"
      },
      "cell_type": "code",
      "source": [
        "# Importing the dataset to predict if the person has a heart disease.\n",
        "dataset = pd.read_csv('heart.csv')\n",
        "x = dataset.iloc[:, :-1].values\n",
        "y = dataset.iloc[:, 13].values\n",
        "np.set_printoptions(formatter={'float_kind':'{:f}'.format})\n",
        "dataset.sample(n=5)"
      ],
      "execution_count": 38,
      "outputs": [
        {
          "output_type": "execute_result",
          "data": {
            "text/html": [
              "<div>\n",
              "<style scoped>\n",
              "    .dataframe tbody tr th:only-of-type {\n",
              "        vertical-align: middle;\n",
              "    }\n",
              "\n",
              "    .dataframe tbody tr th {\n",
              "        vertical-align: top;\n",
              "    }\n",
              "\n",
              "    .dataframe thead th {\n",
              "        text-align: right;\n",
              "    }\n",
              "</style>\n",
              "<table border=\"1\" class=\"dataframe\">\n",
              "  <thead>\n",
              "    <tr style=\"text-align: right;\">\n",
              "      <th></th>\n",
              "      <th>age</th>\n",
              "      <th>sex</th>\n",
              "      <th>cp</th>\n",
              "      <th>trestbps</th>\n",
              "      <th>chol</th>\n",
              "      <th>fbs</th>\n",
              "      <th>restecg</th>\n",
              "      <th>thalach</th>\n",
              "      <th>exang</th>\n",
              "      <th>oldpeak</th>\n",
              "      <th>slope</th>\n",
              "      <th>ca</th>\n",
              "      <th>thal</th>\n",
              "      <th>target</th>\n",
              "    </tr>\n",
              "  </thead>\n",
              "  <tbody>\n",
              "    <tr>\n",
              "      <th>257</th>\n",
              "      <td>50</td>\n",
              "      <td>1</td>\n",
              "      <td>0</td>\n",
              "      <td>144</td>\n",
              "      <td>200</td>\n",
              "      <td>0</td>\n",
              "      <td>0</td>\n",
              "      <td>126</td>\n",
              "      <td>1</td>\n",
              "      <td>0.9</td>\n",
              "      <td>1</td>\n",
              "      <td>0</td>\n",
              "      <td>3</td>\n",
              "      <td>0</td>\n",
              "    </tr>\n",
              "    <tr>\n",
              "      <th>283</th>\n",
              "      <td>40</td>\n",
              "      <td>1</td>\n",
              "      <td>0</td>\n",
              "      <td>152</td>\n",
              "      <td>223</td>\n",
              "      <td>0</td>\n",
              "      <td>1</td>\n",
              "      <td>181</td>\n",
              "      <td>0</td>\n",
              "      <td>0.0</td>\n",
              "      <td>2</td>\n",
              "      <td>0</td>\n",
              "      <td>3</td>\n",
              "      <td>0</td>\n",
              "    </tr>\n",
              "    <tr>\n",
              "      <th>236</th>\n",
              "      <td>58</td>\n",
              "      <td>1</td>\n",
              "      <td>0</td>\n",
              "      <td>125</td>\n",
              "      <td>300</td>\n",
              "      <td>0</td>\n",
              "      <td>0</td>\n",
              "      <td>171</td>\n",
              "      <td>0</td>\n",
              "      <td>0.0</td>\n",
              "      <td>2</td>\n",
              "      <td>2</td>\n",
              "      <td>3</td>\n",
              "      <td>0</td>\n",
              "    </tr>\n",
              "    <tr>\n",
              "      <th>33</th>\n",
              "      <td>54</td>\n",
              "      <td>1</td>\n",
              "      <td>2</td>\n",
              "      <td>125</td>\n",
              "      <td>273</td>\n",
              "      <td>0</td>\n",
              "      <td>0</td>\n",
              "      <td>152</td>\n",
              "      <td>0</td>\n",
              "      <td>0.5</td>\n",
              "      <td>0</td>\n",
              "      <td>1</td>\n",
              "      <td>2</td>\n",
              "      <td>1</td>\n",
              "    </tr>\n",
              "    <tr>\n",
              "      <th>19</th>\n",
              "      <td>69</td>\n",
              "      <td>0</td>\n",
              "      <td>3</td>\n",
              "      <td>140</td>\n",
              "      <td>239</td>\n",
              "      <td>0</td>\n",
              "      <td>1</td>\n",
              "      <td>151</td>\n",
              "      <td>0</td>\n",
              "      <td>1.8</td>\n",
              "      <td>2</td>\n",
              "      <td>2</td>\n",
              "      <td>2</td>\n",
              "      <td>1</td>\n",
              "    </tr>\n",
              "  </tbody>\n",
              "</table>\n",
              "</div>"
            ],
            "text/plain": [
              "     age  sex  cp  trestbps  chol  fbs  restecg  thalach  exang  oldpeak  \\\n",
              "257   50    1   0       144   200    0        0      126      1      0.9   \n",
              "283   40    1   0       152   223    0        1      181      0      0.0   \n",
              "236   58    1   0       125   300    0        0      171      0      0.0   \n",
              "33    54    1   2       125   273    0        0      152      0      0.5   \n",
              "19    69    0   3       140   239    0        1      151      0      1.8   \n",
              "\n",
              "     slope  ca  thal  target  \n",
              "257      1   0     3       0  \n",
              "283      2   0     3       0  \n",
              "236      2   2     3       0  \n",
              "33       0   1     2       1  \n",
              "19       2   2     2       1  "
            ]
          },
          "metadata": {
            "tags": []
          },
          "execution_count": 38
        }
      ]
    },
    {
      "metadata": {
        "id": "hn7fkQOL3OnL",
        "colab_type": "code",
        "colab": {}
      },
      "cell_type": "code",
      "source": [
        "# Feature Scaling\n",
        "from sklearn.preprocessing import StandardScaler\n",
        "sc = StandardScaler()\n",
        "x = sc.fit_transform(x)"
      ],
      "execution_count": 0,
      "outputs": []
    },
    {
      "metadata": {
        "id": "ANJ53oUH3Vcy",
        "colab_type": "code",
        "colab": {}
      },
      "cell_type": "code",
      "source": [
        "# Splitting training and test set\n",
        "from sklearn.model_selection import train_test_split\n",
        "x_train, x_test, y_train, y_test = train_test_split(x, y, test_size = 0.05, random_state = 0)"
      ],
      "execution_count": 0,
      "outputs": []
    },
    {
      "metadata": {
        "id": "AvVeorO73Zar",
        "colab_type": "code",
        "colab": {
          "base_uri": "https://localhost:8080/",
          "height": 784
        },
        "outputId": "c5fd81bf-6d53-4e15-b28c-b2eda5092b89"
      },
      "cell_type": "code",
      "source": [
        "# Training\n",
        "classifier = LogisticRegression(lr = 0.01, epoch = 5000)\n",
        "classifier.fit(x_train, y_train)"
      ],
      "execution_count": 41,
      "outputs": [
        {
          "output_type": "stream",
          "text": [
            "\n",
            "Iteration 0\n",
            "cost is  0.5272660499349897\n",
            "\n",
            "Iteration 1000\n",
            "cost is  0.05288933054828352\n",
            "\n",
            "Iteration 2000\n",
            "cost is  0.019056961447469718\n",
            "\n",
            "Iteration 3000\n",
            "cost is  0.00826865274669355\n",
            "\n",
            "Iteration 4000\n",
            "cost is  0.003937096016508668\n",
            "\n",
            "Iteration 4999\n",
            "cost is  0.0019750899218656764\n",
            "\n",
            "Confusion Matrix\n",
            " [[101  28]\n",
            " [ 16 142]]\n",
            "\n",
            "training accuracy 0.8466898954703833\n"
          ],
          "name": "stdout"
        },
        {
          "output_type": "display_data",
          "data": {
            "image/png": "[encoded data removed]",
            "text/plain": [
              "<matplotlib.figure.Figure at 0x7f1906b6fcc0>"
            ]
          },
          "metadata": {
            "tags": []
          }
        }
      ]
    },
    {
      "metadata": {
        "id": "pTQvJsB13ddW",
        "colab_type": "code",
        "colab": {
          "base_uri": "https://localhost:8080/",
          "height": 204
        },
        "outputId": "de31254b-3256-4f1d-8995-9b1bca48635a"
      },
      "cell_type": "code",
      "source": [
        "#Testing\n",
        "y_pred = classifier.predict(x_test)\n",
        "print(\"\\nExpected result\", y_test)\n",
        "print(\"\\npredicted result \", y_pred)\n",
        "y_pred = np.around(y_pred)\n",
        "confusionMatrix = classifier.confusionMatrix(y_pred, y_test)\n",
        "accuracy = (confusionMatrix[0][0] + confusionMatrix[1][1]) / np.sum(confusionMatrix)\n",
        "print(\"\\nConfusion Matrix\\n\", confusionMatrix)\n",
        "print(\"\\ntest accuracy \", accuracy)"
      ],
      "execution_count": 42,
      "outputs": [
        {
          "output_type": "stream",
          "text": [
            "\n",
            "Expected result [0 1 0 0 1 0 0 0 0 0 1 1 0 1 1 1]\n",
            "\n",
            "predicted result  [0.014890 0.686364 0.718680 0.011345 0.079865 0.346974 0.047425 0.069764\n",
            " 0.001728 0.003851 0.806569 0.950390 0.018810 0.876849 0.965522 0.705332]\n",
            "\n",
            "Confusion Matrix\n",
            " [[8 1]\n",
            " [1 6]]\n",
            "\n",
            "test accuracy  0.875\n"
          ],
          "name": "stdout"
        }
      ]
    }
  ]
}